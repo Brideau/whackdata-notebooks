{
 "cells": [
  {
   "cell_type": "code",
   "execution_count": 6,
   "id": "0ab01f81-1b09-4293-a7bb-6d7f4c7e99e9",
   "metadata": {},
   "outputs": [],
   "source": [
    "import faker as f\n",
    "import numpy as np\n",
    "\n",
    "from numpy.random import default_rng\n",
    "from pandas import DataFrame\n",
    "from scipy.stats import truncnorm\n",
    "from sklearn.metrics import average_precision_score"
   ]
  },
  {
   "cell_type": "code",
   "execution_count": 30,
   "id": "92449345-7725-4962-8448-d36892f4996e",
   "metadata": {},
   "outputs": [],
   "source": [
    "fake_bad_actor_generator = f.Faker()\n",
    "rng = default_rng()\n",
    "\n",
    "\n",
    "def generate_potential_bad_actor(position):\n",
    "    \"\"\"\n",
    "    The details of this function don't really matter. It just generates a\n",
    "    random 'potential bad actor' and labels it with whether it was actually\n",
    "    determined to be fraudulent, and how likely the model though there were\n",
    "    fraudulent.\n",
    "    \"\"\"\n",
    "    return {\n",
    "        \"name\": fake_bad_actor_generator.name(),\n",
    "        \"email\": fake_bad_actor_generator.ascii_email(),\n",
    "        \"is_fraudulent\": rng.binomial(1, (1000.0 - position) / 1000.0),\n",
    "        \"probability_of_fraudulent\": round(\n",
    "            truncnorm.rvs(a=0.0, b=(1000.0 - position) / 1000.0), 2\n",
    "        ),\n",
    "    }\n",
    "\n",
    "\n",
    "ordered_fraud_list = [generate_potential_bad_actor(r) for r in np.arange(0, 1000)]\n",
    "# Shuffle them so it's more realistic\n",
    "ordered_fraud_df = DataFrame(ordered_fraud_list).sample(frac=1)"
   ]
  },
  {
   "cell_type": "code",
   "execution_count": 31,
   "id": "4dbaee77-b063-4106-a495-f4b3ef976ead",
   "metadata": {},
   "outputs": [
    {
     "data": {
      "text/html": [
       "<div>\n",
       "<style scoped>\n",
       "    .dataframe tbody tr th:only-of-type {\n",
       "        vertical-align: middle;\n",
       "    }\n",
       "\n",
       "    .dataframe tbody tr th {\n",
       "        vertical-align: top;\n",
       "    }\n",
       "\n",
       "    .dataframe thead th {\n",
       "        text-align: right;\n",
       "    }\n",
       "</style>\n",
       "<table border=\"1\" class=\"dataframe\">\n",
       "  <thead>\n",
       "    <tr style=\"text-align: right;\">\n",
       "      <th></th>\n",
       "      <th>name</th>\n",
       "      <th>email</th>\n",
       "      <th>is_fraudulent</th>\n",
       "      <th>probability_of_fraudulent</th>\n",
       "    </tr>\n",
       "  </thead>\n",
       "  <tbody>\n",
       "    <tr>\n",
       "      <th>385</th>\n",
       "      <td>Christopher Cline</td>\n",
       "      <td>dwilliams@terry.com</td>\n",
       "      <td>0</td>\n",
       "      <td>0.19</td>\n",
       "    </tr>\n",
       "    <tr>\n",
       "      <th>690</th>\n",
       "      <td>Rachel Chan</td>\n",
       "      <td>katieshaw@hansen-jones.com</td>\n",
       "      <td>0</td>\n",
       "      <td>0.24</td>\n",
       "    </tr>\n",
       "    <tr>\n",
       "      <th>857</th>\n",
       "      <td>Melissa Bennett</td>\n",
       "      <td>john63@hotmail.com</td>\n",
       "      <td>0</td>\n",
       "      <td>0.12</td>\n",
       "    </tr>\n",
       "    <tr>\n",
       "      <th>683</th>\n",
       "      <td>Joshua Nelson</td>\n",
       "      <td>rdavies@mendez-scott.com</td>\n",
       "      <td>0</td>\n",
       "      <td>0.05</td>\n",
       "    </tr>\n",
       "    <tr>\n",
       "      <th>653</th>\n",
       "      <td>Margaret Wilson PhD</td>\n",
       "      <td>jacob83@weaver.com</td>\n",
       "      <td>1</td>\n",
       "      <td>0.10</td>\n",
       "    </tr>\n",
       "    <tr>\n",
       "      <th>...</th>\n",
       "      <td>...</td>\n",
       "      <td>...</td>\n",
       "      <td>...</td>\n",
       "      <td>...</td>\n",
       "    </tr>\n",
       "    <tr>\n",
       "      <th>372</th>\n",
       "      <td>Henry Huang</td>\n",
       "      <td>amy27@chase.com</td>\n",
       "      <td>1</td>\n",
       "      <td>0.05</td>\n",
       "    </tr>\n",
       "    <tr>\n",
       "      <th>673</th>\n",
       "      <td>Jennifer Leach</td>\n",
       "      <td>eric04@russell.com</td>\n",
       "      <td>0</td>\n",
       "      <td>0.33</td>\n",
       "    </tr>\n",
       "    <tr>\n",
       "      <th>451</th>\n",
       "      <td>Kendra Bradford</td>\n",
       "      <td>gomezjustin@hotmail.com</td>\n",
       "      <td>1</td>\n",
       "      <td>0.08</td>\n",
       "    </tr>\n",
       "    <tr>\n",
       "      <th>187</th>\n",
       "      <td>Jennifer Clark</td>\n",
       "      <td>kevin49@stewart.net</td>\n",
       "      <td>1</td>\n",
       "      <td>0.77</td>\n",
       "    </tr>\n",
       "    <tr>\n",
       "      <th>483</th>\n",
       "      <td>Joshua Lawson</td>\n",
       "      <td>nielsendarrell@yahoo.com</td>\n",
       "      <td>0</td>\n",
       "      <td>0.32</td>\n",
       "    </tr>\n",
       "  </tbody>\n",
       "</table>\n",
       "<p>1000 rows × 4 columns</p>\n",
       "</div>"
      ],
      "text/plain": [
       "                    name                       email  is_fraudulent  \\\n",
       "385    Christopher Cline         dwilliams@terry.com              0   \n",
       "690          Rachel Chan  katieshaw@hansen-jones.com              0   \n",
       "857      Melissa Bennett          john63@hotmail.com              0   \n",
       "683        Joshua Nelson    rdavies@mendez-scott.com              0   \n",
       "653  Margaret Wilson PhD          jacob83@weaver.com              1   \n",
       "..                   ...                         ...            ...   \n",
       "372          Henry Huang             amy27@chase.com              1   \n",
       "673       Jennifer Leach          eric04@russell.com              0   \n",
       "451      Kendra Bradford     gomezjustin@hotmail.com              1   \n",
       "187       Jennifer Clark         kevin49@stewart.net              1   \n",
       "483        Joshua Lawson    nielsendarrell@yahoo.com              0   \n",
       "\n",
       "     probability_of_fraudulent  \n",
       "385                       0.19  \n",
       "690                       0.24  \n",
       "857                       0.12  \n",
       "683                       0.05  \n",
       "653                       0.10  \n",
       "..                         ...  \n",
       "372                       0.05  \n",
       "673                       0.33  \n",
       "451                       0.08  \n",
       "187                       0.77  \n",
       "483                       0.32  \n",
       "\n",
       "[1000 rows x 4 columns]"
      ]
     },
     "execution_count": 31,
     "metadata": {},
     "output_type": "execute_result"
    }
   ],
   "source": [
    "ordered_fraud_df"
   ]
  },
  {
   "cell_type": "code",
   "execution_count": 33,
   "id": "24716e51-4205-42e0-ae30-7ff84ecc8388",
   "metadata": {},
   "outputs": [
    {
     "data": {
      "text/plain": [
       "0.6919819953431889"
      ]
     },
     "execution_count": 33,
     "metadata": {},
     "output_type": "execute_result"
    }
   ],
   "source": [
    "average_precision_score(\n",
    "    y_true=ordered_fraud_df[\"is_fraudulent\"],\n",
    "    y_score=ordered_fraud_df[\"probability_of_fraudulent\"],\n",
    ")"
   ]
  },
  {
   "cell_type": "code",
   "execution_count": 118,
   "id": "e5777f0e-a09a-426c-8291-800676c72773",
   "metadata": {},
   "outputs": [],
   "source": [
    "def precision_at_k(y_true, y_score, k, pos_label=1):\n",
    "    from sklearn.utils import column_or_1d\n",
    "    from sklearn.utils.multiclass import type_of_target\n",
    "    \n",
    "    y_true_type = type_of_target(y_true)\n",
    "    if not (y_true_type == \"binary\"):\n",
    "        raise ValueError(\"y_true must be a binary column.\")\n",
    "    \n",
    "    # Makes this compatible with various array types\n",
    "    y_true_arr = column_or_1d(y_true)\n",
    "    y_score_arr = column_or_1d(y_score)\n",
    "    \n",
    "    y_true_arr = y_true_arr == pos_label\n",
    "    \n",
    "    desc_sort_order = np.argsort(y_score_arr)[::-1]\n",
    "    y_true_sorted = y_true_arr[desc_sort_order]\n",
    "    y_score_sorted = y_score_arr[desc_sort_order]\n",
    "    \n",
    "    true_positives = y_true_sorted[:k].sum()\n",
    "    \n",
    "    return true_positives / k"
   ]
  },
  {
   "cell_type": "code",
   "execution_count": 125,
   "id": "7ce3af10-80d9-45f4-a088-25a6e7e62228",
   "metadata": {},
   "outputs": [
    {
     "data": {
      "text/plain": [
       "0.875"
      ]
     },
     "execution_count": 125,
     "metadata": {},
     "output_type": "execute_result"
    }
   ],
   "source": [
    "precision_at_k(\n",
    "    y_true=ordered_fraud_df[\"is_fraudulent\"],\n",
    "    y_score=ordered_fraud_df[\"probability_of_fraudulent\"],\n",
    "    k=40\n",
    ")"
   ]
  },
  {
   "cell_type": "code",
   "execution_count": null,
   "id": "b19075e1-4189-40c4-8121-a56365705738",
   "metadata": {},
   "outputs": [],
   "source": []
  }
 ],
 "metadata": {
  "kernelspec": {
   "display_name": "Python 3 (ipykernel)",
   "language": "python",
   "name": "python3"
  },
  "language_info": {
   "codemirror_mode": {
    "name": "ipython",
    "version": 3
   },
   "file_extension": ".py",
   "mimetype": "text/x-python",
   "name": "python",
   "nbconvert_exporter": "python",
   "pygments_lexer": "ipython3",
   "version": "3.9.9"
  }
 },
 "nbformat": 4,
 "nbformat_minor": 5
}
